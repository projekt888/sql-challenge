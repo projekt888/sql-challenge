{
 "cells": [
  {
   "cell_type": "code",
   "execution_count": 6,
   "metadata": {},
   "outputs": [],
   "source": [
    "# Pandas\n",
    "import pandas as pd\n",
    "\n",
    "from sqlalchemy import create_engine\n",
    "\n",
    "import databaseconfig as cfg\n",
    "\n",
    "engine = create_engine(\n",
    "                'postgresql://' + cfg.mysql['user'] + ':' + cfg.mysql['passwd'] + '@' + cfg.mysql['host'] + '/'+cfg.mysql['db'])\n",
    "     \n",
    "connection = engine.connect()\n",
    "\n",
    "sql_command = \"SELECT Employees.emp_no, Employees.last_name, Employees.first_name, Employees.gender, Salaries.salary, Titles.title FROM Salaries JOIN Employees ON Employees.emp_no=Salaries.emp_no JOIN Titles ON Employees.emp_no=Titles.emp_no\"\n",
    "\n",
    "data = pd.read_sql(sql_command, connection)\n",
    "\n",
    "data.head()\n",
    "\n",
    "connection.close()  # connection is closed for real, the pool replaces it with a new connection"
   ]
  },
  {
   "cell_type": "code",
   "execution_count": 7,
   "metadata": {},
   "outputs": [
    {
     "data": {
      "text/html": [
       "<div>\n",
       "<style scoped>\n",
       "    .dataframe tbody tr th:only-of-type {\n",
       "        vertical-align: middle;\n",
       "    }\n",
       "\n",
       "    .dataframe tbody tr th {\n",
       "        vertical-align: top;\n",
       "    }\n",
       "\n",
       "    .dataframe thead th {\n",
       "        text-align: right;\n",
       "    }\n",
       "</style>\n",
       "<table border=\"1\" class=\"dataframe\">\n",
       "  <thead>\n",
       "    <tr style=\"text-align: right;\">\n",
       "      <th></th>\n",
       "      <th>emp_no</th>\n",
       "      <th>last_name</th>\n",
       "      <th>first_name</th>\n",
       "      <th>gender</th>\n",
       "      <th>salary</th>\n",
       "      <th>title</th>\n",
       "    </tr>\n",
       "  </thead>\n",
       "  <tbody>\n",
       "    <tr>\n",
       "      <th>0</th>\n",
       "      <td>10005</td>\n",
       "      <td>Maliniak</td>\n",
       "      <td>Kyoichi</td>\n",
       "      <td>M</td>\n",
       "      <td>78228</td>\n",
       "      <td>Senior Staff</td>\n",
       "    </tr>\n",
       "    <tr>\n",
       "      <th>1</th>\n",
       "      <td>10005</td>\n",
       "      <td>Maliniak</td>\n",
       "      <td>Kyoichi</td>\n",
       "      <td>M</td>\n",
       "      <td>78228</td>\n",
       "      <td>Staff</td>\n",
       "    </tr>\n",
       "    <tr>\n",
       "      <th>2</th>\n",
       "      <td>10010</td>\n",
       "      <td>Piveteau</td>\n",
       "      <td>Duangkaew</td>\n",
       "      <td>F</td>\n",
       "      <td>72488</td>\n",
       "      <td>Engineer</td>\n",
       "    </tr>\n",
       "    <tr>\n",
       "      <th>3</th>\n",
       "      <td>10011</td>\n",
       "      <td>Sluis</td>\n",
       "      <td>Mary</td>\n",
       "      <td>F</td>\n",
       "      <td>42365</td>\n",
       "      <td>Staff</td>\n",
       "    </tr>\n",
       "    <tr>\n",
       "      <th>4</th>\n",
       "      <td>10013</td>\n",
       "      <td>Terkki</td>\n",
       "      <td>Eberhardt</td>\n",
       "      <td>M</td>\n",
       "      <td>40000</td>\n",
       "      <td>Senior Staff</td>\n",
       "    </tr>\n",
       "  </tbody>\n",
       "</table>\n",
       "</div>"
      ],
      "text/plain": [
       "   emp_no last_name first_name gender  salary         title\n",
       "0   10005  Maliniak    Kyoichi      M   78228  Senior Staff\n",
       "1   10005  Maliniak    Kyoichi      M   78228         Staff\n",
       "2   10010  Piveteau  Duangkaew      F   72488      Engineer\n",
       "3   10011     Sluis       Mary      F   42365         Staff\n",
       "4   10013    Terkki  Eberhardt      M   40000  Senior Staff"
      ]
     },
     "execution_count": 7,
     "metadata": {},
     "output_type": "execute_result"
    }
   ],
   "source": [
    "data.head()"
   ]
  },
  {
   "cell_type": "code",
   "execution_count": 20,
   "metadata": {},
   "outputs": [
    {
     "data": {
      "image/png": "[encoded data removed]",
      "text/plain": [
       "<Figure size 720x360 with 1 Axes>"
      ]
     },
     "metadata": {
      "needs_background": "light"
     },
     "output_type": "display_data"
    }
   ],
   "source": [
    "df = data.groupby('title').mean()\n",
    "df = df.drop(['emp_no'], axis=1)\n",
    "\n",
    "ax = df.plot.bar(rot=0,figsize=(10,5))"
   ]
  },
  {
   "cell_type": "code",
   "execution_count": null,
   "metadata": {},
   "outputs": [],
   "source": []
  }
 ],
 "metadata": {
  "kernelspec": {
   "display_name": "Python 3",
   "language": "python",
   "name": "python3"
  },
  "language_info": {
   "codemirror_mode": {
    "name": "ipython",
    "version": 3
   },
   "file_extension": ".py",
   "mimetype": "text/x-python",
   "name": "python",
   "nbconvert_exporter": "python",
   "pygments_lexer": "ipython3",
   "version": "3.7.3"
  }
 },
 "nbformat": 4,
 "nbformat_minor": 2
}
